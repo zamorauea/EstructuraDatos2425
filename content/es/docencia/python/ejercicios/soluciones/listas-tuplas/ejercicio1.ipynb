{
  "cells": [
    {
      "cell_type": "markdown",
      "metadata": {
        "id": "i5MdD70Rw6NB"
      },
      "source": [
        "## Ejercicio\n",
        "\n",
        "Escribir un programa que almacene las asignaturas de un curso (por ejemplo Matemáticas, Física, Química, Historia y Lengua) en una lista y la muestre por pantalla."
      ]
    },
    {
      "cell_type": "code",
      "source": [
        "# Crear una lista con las materias del curso\n",
        "materias = ['Matemáticas', 'Biología', 'Geografía', 'Literatura', 'Física']\n",
        "\n",
        "# Imprimir las materias del curso\n",
        "print(\"Las materias de este curso son:\")\n",
        "for materia in materias:\n",
        "    print(materia)\n"
      ],
      "metadata": {
        "id": "6TF_L9jZw686",
        "outputId": "1e4f0785-8201-4b3f-e292-d2efb7886a35",
        "colab": {
          "base_uri": "https://localhost:8080/"
        }
      },
      "execution_count": 3,
      "outputs": [
        {
          "output_type": "stream",
          "name": "stdout",
          "text": [
            "Las materias de este curso son:\n",
            "Matemáticas\n",
            "Biología\n",
            "Geografía\n",
            "Literatura\n",
            "Física\n"
          ]
        }
      ]
    },
    {
      "cell_type": "markdown",
      "metadata": {
        "id": "UNBMbtdXw6NE"
      },
      "source": [
        "## Solución"
      ]
    },
    {
      "cell_type": "code",
      "execution_count": null,
      "metadata": {
        "id": "HcsfUzFGw6NF",
        "outputId": "c5c06ce1-1813-487d-855b-3506ede8e952"
      },
      "outputs": [
        {
          "name": "stdout",
          "output_type": "stream",
          "text": [
            "['Matemáticas', 'Física', 'Química', 'Historia', 'Lengua']\n"
          ]
        }
      ],
      "source": [
        "subjects = [\"Matemáticas\", \"Física\", \"Química\", \"Historia\", \"Lengua\"]\n",
        "print(subjects)"
      ]
    }
  ],
  "metadata": {
    "kernelspec": {
      "display_name": "Python 3",
      "language": "python",
      "name": "python3"
    },
    "language_info": {
      "codemirror_mode": {
        "name": "ipython",
        "version": 3
      },
      "file_extension": ".py",
      "mimetype": "text/x-python",
      "name": "python",
      "nbconvert_exporter": "python",
      "pygments_lexer": "ipython3",
      "version": "3.7.1"
    },
    "colab": {
      "provenance": []
    }
  },
  "nbformat": 4,
  "nbformat_minor": 0
}