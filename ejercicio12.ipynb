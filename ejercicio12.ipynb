{
  "cells": [
    {
      "cell_type": "markdown",
      "metadata": {
        "id": "view-in-github",
        "colab_type": "text"
      },
      "source": [
        "<a href=\"https://colab.research.google.com/github/zamorauea/EstructuraDatos2425/blob/main/ejercicio12.ipynb\" target=\"_parent\"><img src=\"https://colab.research.google.com/assets/colab-badge.svg\" alt=\"Open In Colab\"/></a>"
      ]
    },
    {
      "cell_type": "markdown",
      "metadata": {
        "id": "E9gvmdZi2fqC"
      },
      "source": [
        "## Ejercicio\n",
        "\n",
        "Escribir un programa que almacene las matrices\n",
        "\n",
        "$$\n",
        "A = \\left(\n",
        "  \\begin{array}{rrr}\n",
        "  1 & 2 & 3\\\\\n",
        "  4 & 5 & 6\n",
        "  \\end{array}\n",
        "  \\right)\n",
        "  \\quad  y\n",
        "  \\quad\n",
        "  B = \\left(\n",
        "  \\begin{array}{rr}\n",
        "  -1 & 0\\\\\n",
        "  0 & 1\\\\\n",
        "  1 & 1\n",
        "  \\end{array}\n",
        "  \\right)\n",
        "$$\n",
        "\n",
        "en una tupla y muestre por pantalla su producto.  \n",
        "Nota: Para representar matrices mediante tuplas usar tuplas anidadas, representando cada vector fila en una tupla."
      ]
    },
    {
      "cell_type": "code",
      "source": [
        "# Definir las matrices como tuplas anidadas\n",
        "A = ((1, 4, 2), (5, 3, 6))\n",
        "B = ((-1, 0, 1), (0, 1, 0), (1, 1, 1))\n",
        "\n",
        "# Calcular el producto de A y B\n",
        "# Inicializar una matriz vacía para el resultado\n",
        "resultado = tuple(\n",
        "    tuple(\n",
        "        sum(A[i][k] * B[k][j] for k in range(len(B)))  # Producto escalar fila-columna\n",
        "        for j in range(len(B[0]))\n",
        "    )\n",
        "    for i in range(len(A))\n",
        ")\n",
        "\n",
        "# Mostrar el resultado\n",
        "print(\"El producto de las matrices A y B es:\")\n",
        "for fila in resultado:\n",
        "    print(fila)\n"
      ],
      "metadata": {
        "colab": {
          "base_uri": "https://localhost:8080/"
        },
        "id": "x-a89qD12nue",
        "outputId": "bf27084b-46f5-4d72-91b8-7b1dbea404aa"
      },
      "execution_count": null,
      "outputs": [
        {
          "output_type": "stream",
          "name": "stdout",
          "text": [
            "El producto de las matrices A y B es:\n",
            "(1, 6, 3)\n",
            "(1, 9, 11)\n"
          ]
        }
      ]
    },
    {
      "cell_type": "markdown",
      "metadata": {
        "id": "0oUOURDn2fqG"
      },
      "source": [
        "## Solución"
      ]
    },
    {
      "cell_type": "code",
      "execution_count": null,
      "metadata": {
        "id": "NDUlMoHd2fqH",
        "outputId": "0c176caa-0bdb-493d-f2a8-1a6ffa1f8d4e"
      },
      "outputs": [
        {
          "name": "stdout",
          "output_type": "stream",
          "text": [
            "(2, 5)\n",
            "(2, 11)\n"
          ]
        }
      ],
      "source": [
        "a = ((1, 2, 3),\n",
        "     (4, 5, 6))\n",
        "b = ((-1, 0),\n",
        "     (0, 1),\n",
        "     (1,1))\n",
        "result = [[0,0],\n",
        "          [0,0]]\n",
        "for i in range(len(a)):\n",
        "    for j in range(len(b[0])):\n",
        "        for k in range(len(b)):\n",
        "            result[i][j] += a[i][k] * b[k][j]\n",
        "for i in range(len(result)):\n",
        "    result[i] = tuple(result[i])\n",
        "result = tuple(result)\n",
        "for i in range(len(result)):\n",
        "    print(result[i])"
      ]
    }
  ],
  "metadata": {
    "kernelspec": {
      "display_name": "Python 3",
      "language": "python",
      "name": "python3"
    },
    "language_info": {
      "codemirror_mode": {
        "name": "ipython",
        "version": 3
      },
      "file_extension": ".py",
      "mimetype": "text/x-python",
      "name": "python",
      "nbconvert_exporter": "python",
      "pygments_lexer": "ipython3",
      "version": "3.7.1"
    },
    "colab": {
      "provenance": [],
      "include_colab_link": true
    }
  },
  "nbformat": 4,
  "nbformat_minor": 0
}