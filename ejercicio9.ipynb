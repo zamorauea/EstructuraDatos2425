{
  "cells": [
    {
      "cell_type": "markdown",
      "metadata": {
        "id": "view-in-github",
        "colab_type": "text"
      },
      "source": [
        "<a href=\"https://colab.research.google.com/github/zamorauea/EstructuraDatos2425/blob/main/ejercicio9.ipynb\" target=\"_parent\"><img src=\"https://colab.research.google.com/assets/colab-badge.svg\" alt=\"Open In Colab\"/></a>"
      ]
    },
    {
      "cell_type": "markdown",
      "metadata": {
        "id": "xzJWZU6E0hyQ"
      },
      "source": [
        "## Ejercicio\n",
        "\n",
        "Escribir un programa que pida al usuario una palabra y muestre por pantalla el número de veces que contiene cada vocal."
      ]
    },
    {
      "cell_type": "code",
      "source": [
        "# Solicitar al usuario una palabra\n",
        "palabra = input(\"Introduce una palabra: \").lower()\n",
        "\n",
        "# Inicializar un diccionario para contar las vocales\n",
        "vocales = {'a': 0, 'e': 0, 'i': 0, 'o': 0, 'u': 0}\n",
        "\n",
        "# Contar las vocales en la palabra\n",
        "for letra in palabra:\n",
        "    if letra in vocales:\n",
        "        vocales[letra] += 1\n",
        "\n",
        "# Mostrar el número de veces que aparece cada vocal\n",
        "print(\"Número de veces que aparece cada vocal:\")\n",
        "for vocal, cantidad in vocales.items():\n",
        "    print(f\"{vocal}: {cantidad}\")\n"
      ],
      "metadata": {
        "colab": {
          "base_uri": "https://localhost:8080/"
        },
        "id": "up1IL5Lx0uNg",
        "outputId": "ecd1d090-f9f9-496f-b660-ec28ec9c2ef5"
      },
      "execution_count": null,
      "outputs": [
        {
          "output_type": "stream",
          "name": "stdout",
          "text": [
            "Introduce una palabra: murcielago\n",
            "Número de veces que aparece cada vocal:\n",
            "a: 1\n",
            "e: 1\n",
            "i: 1\n",
            "o: 1\n",
            "u: 1\n"
          ]
        }
      ]
    },
    {
      "cell_type": "markdown",
      "metadata": {
        "id": "BRgHj_8U0hyU"
      },
      "source": [
        "## Solución"
      ]
    },
    {
      "cell_type": "code",
      "execution_count": null,
      "metadata": {
        "id": "v_OCpNvT0hyV",
        "outputId": "5a1723a8-59a2-4fe8-c61a-b563babc72b3"
      },
      "outputs": [
        {
          "name": "stdin",
          "output_type": "stream",
          "text": [
            "Introduce una palabra:  En un lugar de la Mancha\n"
          ]
        },
        {
          "name": "stdout",
          "output_type": "stream",
          "text": [
            "La vocal a aparece 4 veces\n",
            "La vocal e aparece 1 veces\n",
            "La vocal i aparece 0 veces\n",
            "La vocal o aparece 0 veces\n",
            "La vocal u aparece 2 veces\n"
          ]
        }
      ],
      "source": [
        "word = input(\"Introduce una palabra: \")\n",
        "vocals = ['a', 'e', 'i', 'o', 'u']\n",
        "for vocal in vocals:\n",
        "    times = 0\n",
        "    for letter in word:\n",
        "        if letter == vocal:\n",
        "            times += 1\n",
        "    print(\"La vocal \" + vocal + \" aparece \" + str(times) + \" veces\")"
      ]
    }
  ],
  "metadata": {
    "kernelspec": {
      "display_name": "Python 3",
      "language": "python",
      "name": "python3"
    },
    "language_info": {
      "codemirror_mode": {
        "name": "ipython",
        "version": 3
      },
      "file_extension": ".py",
      "mimetype": "text/x-python",
      "name": "python",
      "nbconvert_exporter": "python",
      "pygments_lexer": "ipython3",
      "version": "3.7.1"
    },
    "colab": {
      "provenance": [],
      "include_colab_link": true
    }
  },
  "nbformat": 4,
  "nbformat_minor": 0
}