{
  "cells": [
    {
      "cell_type": "markdown",
      "metadata": {
        "id": "view-in-github",
        "colab_type": "text"
      },
      "source": [
        "<a href=\"https://colab.research.google.com/github/zamorauea/EstructuraDatos2425/blob/main/ejercicio11.ipynb\" target=\"_parent\"><img src=\"https://colab.research.google.com/assets/colab-badge.svg\" alt=\"Open In Colab\"/></a>"
      ]
    },
    {
      "cell_type": "markdown",
      "metadata": {
        "id": "moqaHLPE2EGR"
      },
      "source": [
        "## Ejercicio\n",
        "\n",
        "Escribir un programa que almacene los vectores (1,2,3) y (-1,0,2) en dos tuplas y muestre por pantalla su producto escalar."
      ]
    },
    {
      "cell_type": "code",
      "source": [
        "# Definir los vectores como tuplas\n",
        "vector1 = (1, 2, 3)\n",
        "vector2 = (-1, 0, 2)\n",
        "\n",
        "# Calcular el producto escalar\n",
        "producto_escalar = sum(a * b for a, b in zip(vector1, vector2))\n",
        "\n",
        "# Mostrar el resultado\n",
        "print(f\"El producto escalar de los vectores {vector1} y {vector2} es: {producto_escalar}\")\n",
        "\n"
      ],
      "metadata": {
        "colab": {
          "base_uri": "https://localhost:8080/"
        },
        "id": "v_mOloBO2LX_",
        "outputId": "eb0c89c9-f545-4a92-a8c1-324b79758cb0"
      },
      "execution_count": null,
      "outputs": [
        {
          "output_type": "stream",
          "name": "stdout",
          "text": [
            "El producto escalar de los vectores (1, 2, 3) y (-1, 0, 2) es: 5\n"
          ]
        }
      ]
    },
    {
      "cell_type": "markdown",
      "metadata": {
        "id": "JX8jG27J2EGV"
      },
      "source": [
        "## Solución"
      ]
    },
    {
      "cell_type": "code",
      "execution_count": null,
      "metadata": {
        "id": "fULuJ9TQ2EGW",
        "outputId": "b1c6a122-b008-4f16-cd48-e47773c92380"
      },
      "outputs": [
        {
          "name": "stdout",
          "output_type": "stream",
          "text": [
            "El producto de los vectores(1, 2, 3) y (-1, 0, 2) es 5\n"
          ]
        }
      ],
      "source": [
        "a = (1, 2, 3)\n",
        "b = (-1, 0, 2)\n",
        "product = 0\n",
        "for i in range(len(a)):\n",
        "    product += a[i]*b[i]\n",
        "print(\"El producto de los vectores\" + str(a) + \" y \" + str(b) + \" es \" + str(product))"
      ]
    }
  ],
  "metadata": {
    "kernelspec": {
      "display_name": "Python 3",
      "language": "python",
      "name": "python3"
    },
    "language_info": {
      "codemirror_mode": {
        "name": "ipython",
        "version": 3
      },
      "file_extension": ".py",
      "mimetype": "text/x-python",
      "name": "python",
      "nbconvert_exporter": "python",
      "pygments_lexer": "ipython3",
      "version": "3.7.1"
    },
    "colab": {
      "provenance": [],
      "include_colab_link": true
    }
  },
  "nbformat": 4,
  "nbformat_minor": 0
}