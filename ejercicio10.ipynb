{
  "cells": [
    {
      "cell_type": "markdown",
      "metadata": {
        "id": "view-in-github",
        "colab_type": "text"
      },
      "source": [
        "<a href=\"https://colab.research.google.com/github/zamorauea/EstructuraDatos2425/blob/main/ejercicio10.ipynb\" target=\"_parent\"><img src=\"https://colab.research.google.com/assets/colab-badge.svg\" alt=\"Open In Colab\"/></a>"
      ]
    },
    {
      "cell_type": "markdown",
      "metadata": {
        "id": "qcS-TqJ81o0O"
      },
      "source": [
        "## Ejercicio\n",
        "\n",
        "Escribir un programa que almacene en una lista los siguientes precios, 50, 75, 46, 22, 80, 65, 8, y muestre por pantalla el menor y el mayor de los precios."
      ]
    },
    {
      "cell_type": "code",
      "source": [
        "# Lista de precios\n",
        "precios = [50, 75, 46, 22, 80, 65, 8]\n",
        "\n",
        "# Encontrar el menor y el mayor precio\n",
        "menor_precio = min(precios)\n",
        "mayor_precio = max(precios)\n",
        "\n",
        "# Mostrar los resultados\n",
        "print(f\"El menor precio es: {menor_precio}\")\n",
        "print(f\"El mayor precio es: {mayor_precio}\")\n",
        "\n"
      ],
      "metadata": {
        "colab": {
          "base_uri": "https://localhost:8080/"
        },
        "id": "WWl7JHoz1q0O",
        "outputId": "16fa836f-0e46-4ba7-ab9b-81a4cd6d60ca"
      },
      "execution_count": null,
      "outputs": [
        {
          "output_type": "stream",
          "name": "stdout",
          "text": [
            "El menor precio es: 8\n",
            "El mayor precio es: 80\n"
          ]
        }
      ]
    },
    {
      "cell_type": "markdown",
      "metadata": {
        "id": "44D6Ny5o1o0Q"
      },
      "source": [
        "## Solución"
      ]
    },
    {
      "cell_type": "code",
      "execution_count": null,
      "metadata": {
        "id": "DwuyOKXP1o0S",
        "outputId": "f9e4b15c-0a47-48a6-c646-0ea17a7665fd"
      },
      "outputs": [
        {
          "name": "stdout",
          "output_type": "stream",
          "text": [
            "El mínimo es 8\n",
            "El máximo es 80\n"
          ]
        }
      ],
      "source": [
        "prices = [50, 75, 46, 22, 80, 65, 8]\n",
        "min = max = prices[0]\n",
        "for price in prices:\n",
        "    if price < min:\n",
        "        min = price\n",
        "    elif price > max:\n",
        "        max = price\n",
        "print(\"El mínimo es \" + str(min))\n",
        "print(\"El máximo es \" + str(max))"
      ]
    }
  ],
  "metadata": {
    "kernelspec": {
      "display_name": "Python 3",
      "language": "python",
      "name": "python3"
    },
    "language_info": {
      "codemirror_mode": {
        "name": "ipython",
        "version": 3
      },
      "file_extension": ".py",
      "mimetype": "text/x-python",
      "name": "python",
      "nbconvert_exporter": "python",
      "pygments_lexer": "ipython3",
      "version": "3.7.1"
    },
    "colab": {
      "provenance": [],
      "include_colab_link": true
    }
  },
  "nbformat": 4,
  "nbformat_minor": 0
}